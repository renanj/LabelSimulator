{
 "cells": [
  {
   "cell_type": "code",
   "execution_count": 1,
   "id": "92bf5927",
   "metadata": {},
   "outputs": [],
   "source": [
    "import simulation as sim\n",
    "import pandas as pd\n",
    "from sklearn.linear_model import LogisticRegression\n",
    "from sklearn.metrics import accuracy_score"
   ]
  },
  {
   "cell_type": "code",
   "execution_count": 286,
   "id": "6410134c",
   "metadata": {},
   "outputs": [],
   "source": [
    "_xx = LogisticRegression()"
   ]
  },
  {
   "cell_type": "code",
   "execution_count": 295,
   "id": "28f75620",
   "metadata": {},
   "outputs": [
    {
     "data": {
      "text/plain": [
       "'LogisticRegression'"
      ]
     },
     "execution_count": 295,
     "metadata": {},
     "output_type": "execute_result"
    }
   ],
   "source": [
    "type(_list_models[0]).__name__"
   ]
  },
  {
   "cell_type": "code",
   "execution_count": 293,
   "id": "23d3176f",
   "metadata": {},
   "outputs": [
    {
     "ename": "TypeError",
     "evalue": "'bool' object is not callable",
     "output_type": "error",
     "traceback": [
      "\u001b[0;31m---------------------------------------------------------------------------\u001b[0m",
      "\u001b[0;31mTypeError\u001b[0m                                 Traceback (most recent call last)",
      "\u001b[0;32m<ipython-input-293-0cf7e61c624c>\u001b[0m in \u001b[0;36m<module>\u001b[0;34m\u001b[0m\n\u001b[0;32m----> 1\u001b[0;31m \u001b[0m_xx\u001b[0m\u001b[0;34m.\u001b[0m\u001b[0mwarm_start\u001b[0m\u001b[0;34m(\u001b[0m\u001b[0;34m)\u001b[0m\u001b[0;34m\u001b[0m\u001b[0;34m\u001b[0m\u001b[0m\n\u001b[0m",
      "\u001b[0;31mTypeError\u001b[0m: 'bool' object is not callable"
     ]
    }
   ],
   "source": [
    "\n",
    "_xx.warm_start()"
   ]
  },
  {
   "cell_type": "code",
   "execution_count": null,
   "id": "6e13ea8a",
   "metadata": {},
   "outputs": [],
   "source": []
  },
  {
   "cell_type": "code",
   "execution_count": 281,
   "id": "97f8abd7",
   "metadata": {},
   "outputs": [
    {
     "data": {
      "text/plain": [
       "sklearn.linear_model._logistic.LogisticRegression"
      ]
     },
     "execution_count": 281,
     "metadata": {},
     "output_type": "execute_result"
    }
   ],
   "source": [
    "LogisticRegression.mro()[0]"
   ]
  },
  {
   "cell_type": "code",
   "execution_count": 283,
   "id": "36fd54aa",
   "metadata": {},
   "outputs": [
    {
     "ename": "AttributeError",
     "evalue": "'LogisticRegression' object has no attribute 'mro'",
     "output_type": "error",
     "traceback": [
      "\u001b[0;31m---------------------------------------------------------------------------\u001b[0m",
      "\u001b[0;31mAttributeError\u001b[0m                            Traceback (most recent call last)",
      "\u001b[0;32m<ipython-input-283-161e24b037d7>\u001b[0m in \u001b[0;36m<module>\u001b[0;34m\u001b[0m\n\u001b[0;32m----> 1\u001b[0;31m \u001b[0m_list_models\u001b[0m\u001b[0;34m[\u001b[0m\u001b[0;36m0\u001b[0m\u001b[0;34m]\u001b[0m\u001b[0;34m.\u001b[0m\u001b[0mmro\u001b[0m\u001b[0;34m(\u001b[0m\u001b[0;34m)\u001b[0m\u001b[0;34m\u001b[0m\u001b[0;34m\u001b[0m\u001b[0m\n\u001b[0m",
      "\u001b[0;31mAttributeError\u001b[0m: 'LogisticRegression' object has no attribute 'mro'"
     ]
    }
   ],
   "source": [
    "_list_models[0]."
   ]
  },
  {
   "cell_type": "code",
   "execution_count": null,
   "id": "f440c8ad",
   "metadata": {},
   "outputs": [],
   "source": []
  },
  {
   "cell_type": "code",
   "execution_count": 253,
   "id": "ac11954d",
   "metadata": {},
   "outputs": [],
   "source": [
    "#Names\n",
    "# _list_databases_name = ['database1']\n",
    "_list_models_name = [\n",
    "    'Logistic Regression'\n",
    "]\n",
    "\n",
    "\n",
    "_list_databases_training = []\n",
    "_list_databases_test = []\n",
    "_list_databases_name = []\n",
    "\n",
    "\n",
    "_list_simulation_samples = [] #list of list\n",
    "\n",
    "\n",
    "_list_models = [\n",
    "    LogisticRegression(random_state=0)\n",
    "]\n",
    "\n",
    "\n",
    "# _model_output = [\n",
    "\n",
    "#     #Name:\n",
    "#     [\n",
    "#         #dbs...\n",
    "#         [   \n",
    "#             #simulations\n",
    "#             [\n",
    "#                 #model\n",
    "#                 [\n",
    "\n",
    "#                 ]\n",
    "\n",
    "#             ]            \n",
    "#         ]\n",
    "#     ],\n",
    "\n",
    "\n",
    "\n",
    "#     #Qtd of Labels:\n",
    "#     [\n",
    "#         #dbs...\n",
    "#         [   \n",
    "#             #simulations\n",
    "#             [\n",
    "#                 #model\n",
    "#                 [\n",
    "\n",
    "#                 ]\n",
    "\n",
    "#             ]            \n",
    "#         ]\n",
    "#     ],\n",
    "\n",
    "#     #Accuracy:\n",
    "#     [\n",
    "#         #dbs...\n",
    "#         [   \n",
    "#             #simulations\n",
    "#             [\n",
    "#                 #model\n",
    "#                 [\n",
    "\n",
    "#                 ]\n",
    "\n",
    "#             ]            \n",
    "#         ]\n",
    "#     ],\n",
    "# ]\n",
    "\n",
    "\n",
    "\n",
    "\n",
    "_model_output = [\n",
    "\n",
    "    #Name in the following strucutre: \n",
    "\n",
    "    [\n",
    "\n",
    "        # \"Dataset Name | Simulation Name | Model Name\"\n",
    "\n",
    "    ],\n",
    "\n",
    "\n",
    "    #Qtd of Labels:\n",
    "    [\n",
    "\n",
    "    ],\n",
    "\n",
    "    #Accuracy:\n",
    "    [\n",
    " \n",
    "    ],\n",
    "]"
   ]
  },
  {
   "cell_type": "code",
   "execution_count": 254,
   "id": "425cde08",
   "metadata": {},
   "outputs": [],
   "source": [
    "# DATABASE + SAMPLE:\n",
    "_error = False\n",
    "i = 1\n",
    "while _error == False:\n",
    "\n",
    "    try:\n",
    "        _path_training = 'data/dataset_' + str(i) + '/processed/training/df.csv'\n",
    "        _path_test = 'data/dataset_' + str(i) + '/processed/test/df.csv'\n",
    "\n",
    "\n",
    "        df_training = pd.read_csv(_path_training)\n",
    "        df_test = pd.read_csv(_path_test)\n",
    "     \n",
    "\n",
    "        _list_databases_training.append(df_training)\n",
    "        _list_databases_test.append(df_test)\n",
    "        _list_databases_name.append('database_' + str(i))\n",
    "\n",
    "\n",
    "\n",
    "        i = i +1\n",
    "\n",
    "    except:\n",
    "        _error = True\n",
    "\n"
   ]
  },
  {
   "cell_type": "code",
   "execution_count": 255,
   "id": "c4fe760d",
   "metadata": {},
   "outputs": [
    {
     "data": {
      "text/plain": [
       "['database_1']"
      ]
     },
     "execution_count": 255,
     "metadata": {},
     "output_type": "execute_result"
    }
   ],
   "source": [
    "_list_databases_name"
   ]
  },
  {
   "cell_type": "code",
   "execution_count": 256,
   "id": "fd880012",
   "metadata": {},
   "outputs": [
    {
     "data": {
      "text/html": [
       "<div>\n",
       "<style scoped>\n",
       "    .dataframe tbody tr th:only-of-type {\n",
       "        vertical-align: middle;\n",
       "    }\n",
       "\n",
       "    .dataframe tbody tr th {\n",
       "        vertical-align: top;\n",
       "    }\n",
       "\n",
       "    .dataframe thead th {\n",
       "        text-align: right;\n",
       "    }\n",
       "</style>\n",
       "<table border=\"1\" class=\"dataframe\">\n",
       "  <thead>\n",
       "    <tr style=\"text-align: right;\">\n",
       "      <th></th>\n",
       "      <th>sample_id</th>\n",
       "      <th>names</th>\n",
       "      <th>X1</th>\n",
       "      <th>X2</th>\n",
       "      <th>manual_label</th>\n",
       "      <th>labels</th>\n",
       "      <th>tsn_1</th>\n",
       "      <th>tsn_2</th>\n",
       "      <th>tsn_3</th>\n",
       "      <th>tsn_4</th>\n",
       "      <th>tsn_5</th>\n",
       "      <th>tsn_6</th>\n",
       "    </tr>\n",
       "  </thead>\n",
       "  <tbody>\n",
       "    <tr>\n",
       "      <th>0</th>\n",
       "      <td>1</td>\n",
       "      <td>11.png</td>\n",
       "      <td>-12.140792</td>\n",
       "      <td>-3.005025</td>\n",
       "      <td>-</td>\n",
       "      <td>9</td>\n",
       "      <td>-20.138219</td>\n",
       "      <td>8.722197</td>\n",
       "      <td>-2.192292</td>\n",
       "      <td>6.226294</td>\n",
       "      <td>1.141958</td>\n",
       "      <td>12.539981</td>\n",
       "    </tr>\n",
       "    <tr>\n",
       "      <th>1</th>\n",
       "      <td>2</td>\n",
       "      <td>67.png</td>\n",
       "      <td>-0.343389</td>\n",
       "      <td>21.169314</td>\n",
       "      <td>-</td>\n",
       "      <td>8</td>\n",
       "      <td>-2.609210</td>\n",
       "      <td>0.278741</td>\n",
       "      <td>5.310276</td>\n",
       "      <td>-1.593806</td>\n",
       "      <td>0.504054</td>\n",
       "      <td>-21.134385</td>\n",
       "    </tr>\n",
       "    <tr>\n",
       "      <th>2</th>\n",
       "      <td>3</td>\n",
       "      <td>92.png</td>\n",
       "      <td>-24.071441</td>\n",
       "      <td>2.755267</td>\n",
       "      <td>-</td>\n",
       "      <td>4</td>\n",
       "      <td>-19.316880</td>\n",
       "      <td>9.168161</td>\n",
       "      <td>-0.739780</td>\n",
       "      <td>-7.175363</td>\n",
       "      <td>0.727927</td>\n",
       "      <td>-8.984532</td>\n",
       "    </tr>\n",
       "    <tr>\n",
       "      <th>3</th>\n",
       "      <td>4</td>\n",
       "      <td>143.png</td>\n",
       "      <td>-12.462919</td>\n",
       "      <td>4.813755</td>\n",
       "      <td>-</td>\n",
       "      <td>4</td>\n",
       "      <td>-19.433916</td>\n",
       "      <td>7.905950</td>\n",
       "      <td>2.473596</td>\n",
       "      <td>-3.513868</td>\n",
       "      <td>3.719169</td>\n",
       "      <td>17.211433</td>\n",
       "    </tr>\n",
       "    <tr>\n",
       "      <th>4</th>\n",
       "      <td>5</td>\n",
       "      <td>159.png</td>\n",
       "      <td>24.704714</td>\n",
       "      <td>12.661666</td>\n",
       "      <td>-</td>\n",
       "      <td>6</td>\n",
       "      <td>27.122621</td>\n",
       "      <td>-11.382759</td>\n",
       "      <td>-0.335082</td>\n",
       "      <td>-20.375857</td>\n",
       "      <td>-3.170687</td>\n",
       "      <td>-11.818800</td>\n",
       "    </tr>\n",
       "    <tr>\n",
       "      <th>...</th>\n",
       "      <td>...</td>\n",
       "      <td>...</td>\n",
       "      <td>...</td>\n",
       "      <td>...</td>\n",
       "      <td>...</td>\n",
       "      <td>...</td>\n",
       "      <td>...</td>\n",
       "      <td>...</td>\n",
       "      <td>...</td>\n",
       "      <td>...</td>\n",
       "      <td>...</td>\n",
       "      <td>...</td>\n",
       "    </tr>\n",
       "    <tr>\n",
       "      <th>595</th>\n",
       "      <td>596</td>\n",
       "      <td>25589.png</td>\n",
       "      <td>1.944239</td>\n",
       "      <td>7.828915</td>\n",
       "      <td>-</td>\n",
       "      <td>1</td>\n",
       "      <td>7.521208</td>\n",
       "      <td>12.240008</td>\n",
       "      <td>-1.114136</td>\n",
       "      <td>-1.539621</td>\n",
       "      <td>-4.279937</td>\n",
       "      <td>6.770834</td>\n",
       "    </tr>\n",
       "    <tr>\n",
       "      <th>596</th>\n",
       "      <td>597</td>\n",
       "      <td>25735.png</td>\n",
       "      <td>8.848954</td>\n",
       "      <td>-15.350539</td>\n",
       "      <td>-</td>\n",
       "      <td>5</td>\n",
       "      <td>-1.907617</td>\n",
       "      <td>-15.327768</td>\n",
       "      <td>0.897048</td>\n",
       "      <td>4.451624</td>\n",
       "      <td>-7.096788</td>\n",
       "      <td>-6.554065</td>\n",
       "    </tr>\n",
       "    <tr>\n",
       "      <th>597</th>\n",
       "      <td>598</td>\n",
       "      <td>25771.png</td>\n",
       "      <td>20.809282</td>\n",
       "      <td>8.662752</td>\n",
       "      <td>-</td>\n",
       "      <td>6</td>\n",
       "      <td>26.409124</td>\n",
       "      <td>-12.214352</td>\n",
       "      <td>-5.190004</td>\n",
       "      <td>-12.181389</td>\n",
       "      <td>-3.843709</td>\n",
       "      <td>-5.005416</td>\n",
       "    </tr>\n",
       "    <tr>\n",
       "      <th>598</th>\n",
       "      <td>599</td>\n",
       "      <td>25828.png</td>\n",
       "      <td>17.910019</td>\n",
       "      <td>-6.569459</td>\n",
       "      <td>-</td>\n",
       "      <td>5</td>\n",
       "      <td>10.680495</td>\n",
       "      <td>-9.225677</td>\n",
       "      <td>5.022572</td>\n",
       "      <td>-0.575978</td>\n",
       "      <td>-4.842841</td>\n",
       "      <td>-18.326210</td>\n",
       "    </tr>\n",
       "    <tr>\n",
       "      <th>599</th>\n",
       "      <td>600</td>\n",
       "      <td>25869.png</td>\n",
       "      <td>17.863944</td>\n",
       "      <td>3.962876</td>\n",
       "      <td>-</td>\n",
       "      <td>6</td>\n",
       "      <td>18.480775</td>\n",
       "      <td>-8.405411</td>\n",
       "      <td>-4.894103</td>\n",
       "      <td>-12.467911</td>\n",
       "      <td>-5.912239</td>\n",
       "      <td>-8.455587</td>\n",
       "    </tr>\n",
       "  </tbody>\n",
       "</table>\n",
       "<p>600 rows × 12 columns</p>\n",
       "</div>"
      ],
      "text/plain": [
       "     sample_id      names         X1         X2 manual_label  labels  \\\n",
       "0            1     11.png -12.140792  -3.005025            -       9   \n",
       "1            2     67.png  -0.343389  21.169314            -       8   \n",
       "2            3     92.png -24.071441   2.755267            -       4   \n",
       "3            4    143.png -12.462919   4.813755            -       4   \n",
       "4            5    159.png  24.704714  12.661666            -       6   \n",
       "..         ...        ...        ...        ...          ...     ...   \n",
       "595        596  25589.png   1.944239   7.828915            -       1   \n",
       "596        597  25735.png   8.848954 -15.350539            -       5   \n",
       "597        598  25771.png  20.809282   8.662752            -       6   \n",
       "598        599  25828.png  17.910019  -6.569459            -       5   \n",
       "599        600  25869.png  17.863944   3.962876            -       6   \n",
       "\n",
       "         tsn_1      tsn_2     tsn_3      tsn_4     tsn_5      tsn_6  \n",
       "0   -20.138219   8.722197 -2.192292   6.226294  1.141958  12.539981  \n",
       "1    -2.609210   0.278741  5.310276  -1.593806  0.504054 -21.134385  \n",
       "2   -19.316880   9.168161 -0.739780  -7.175363  0.727927  -8.984532  \n",
       "3   -19.433916   7.905950  2.473596  -3.513868  3.719169  17.211433  \n",
       "4    27.122621 -11.382759 -0.335082 -20.375857 -3.170687 -11.818800  \n",
       "..         ...        ...       ...        ...       ...        ...  \n",
       "595   7.521208  12.240008 -1.114136  -1.539621 -4.279937   6.770834  \n",
       "596  -1.907617 -15.327768  0.897048   4.451624 -7.096788  -6.554065  \n",
       "597  26.409124 -12.214352 -5.190004 -12.181389 -3.843709  -5.005416  \n",
       "598  10.680495  -9.225677  5.022572  -0.575978 -4.842841 -18.326210  \n",
       "599  18.480775  -8.405411 -4.894103 -12.467911 -5.912239  -8.455587  \n",
       "\n",
       "[600 rows x 12 columns]"
      ]
     },
     "execution_count": 256,
     "metadata": {},
     "output_type": "execute_result"
    }
   ],
   "source": [
    "_list_databases_training[0]"
   ]
  },
  {
   "cell_type": "code",
   "execution_count": 257,
   "id": "988ee61f",
   "metadata": {},
   "outputs": [
    {
     "data": {
      "text/html": [
       "<div>\n",
       "<style scoped>\n",
       "    .dataframe tbody tr th:only-of-type {\n",
       "        vertical-align: middle;\n",
       "    }\n",
       "\n",
       "    .dataframe tbody tr th {\n",
       "        vertical-align: top;\n",
       "    }\n",
       "\n",
       "    .dataframe thead th {\n",
       "        text-align: right;\n",
       "    }\n",
       "</style>\n",
       "<table border=\"1\" class=\"dataframe\">\n",
       "  <thead>\n",
       "    <tr style=\"text-align: right;\">\n",
       "      <th></th>\n",
       "      <th>sample_id</th>\n",
       "      <th>names</th>\n",
       "      <th>X1</th>\n",
       "      <th>X2</th>\n",
       "      <th>manual_label</th>\n",
       "      <th>labels</th>\n",
       "      <th>tsn_1</th>\n",
       "      <th>tsn_2</th>\n",
       "      <th>tsn_3</th>\n",
       "      <th>tsn_4</th>\n",
       "      <th>tsn_5</th>\n",
       "      <th>tsn_6</th>\n",
       "    </tr>\n",
       "  </thead>\n",
       "  <tbody>\n",
       "    <tr>\n",
       "      <th>0</th>\n",
       "      <td>601</td>\n",
       "      <td>25895.png</td>\n",
       "      <td>8.606181</td>\n",
       "      <td>3.712231</td>\n",
       "      <td>-</td>\n",
       "      <td>1</td>\n",
       "      <td>8.119115</td>\n",
       "      <td>9.607861</td>\n",
       "      <td>-5.338228</td>\n",
       "      <td>-4.246046</td>\n",
       "      <td>-10.275189</td>\n",
       "      <td>-4.740141</td>\n",
       "    </tr>\n",
       "    <tr>\n",
       "      <th>1</th>\n",
       "      <td>602</td>\n",
       "      <td>25945.png</td>\n",
       "      <td>-22.155696</td>\n",
       "      <td>-2.295570</td>\n",
       "      <td>-</td>\n",
       "      <td>9</td>\n",
       "      <td>-28.255251</td>\n",
       "      <td>9.624796</td>\n",
       "      <td>-3.237398</td>\n",
       "      <td>1.525049</td>\n",
       "      <td>2.949544</td>\n",
       "      <td>-4.735782</td>\n",
       "    </tr>\n",
       "    <tr>\n",
       "      <th>2</th>\n",
       "      <td>603</td>\n",
       "      <td>26016.png</td>\n",
       "      <td>27.955822</td>\n",
       "      <td>-1.602836</td>\n",
       "      <td>-</td>\n",
       "      <td>0</td>\n",
       "      <td>25.939780</td>\n",
       "      <td>-23.938897</td>\n",
       "      <td>0.278443</td>\n",
       "      <td>3.290211</td>\n",
       "      <td>0.146724</td>\n",
       "      <td>2.510815</td>\n",
       "    </tr>\n",
       "    <tr>\n",
       "      <th>3</th>\n",
       "      <td>604</td>\n",
       "      <td>26025.png</td>\n",
       "      <td>12.836821</td>\n",
       "      <td>-8.692057</td>\n",
       "      <td>-</td>\n",
       "      <td>3</td>\n",
       "      <td>4.610268</td>\n",
       "      <td>-8.028374</td>\n",
       "      <td>12.176372</td>\n",
       "      <td>3.200511</td>\n",
       "      <td>-6.739687</td>\n",
       "      <td>-17.110702</td>\n",
       "    </tr>\n",
       "    <tr>\n",
       "      <th>4</th>\n",
       "      <td>605</td>\n",
       "      <td>26038.png</td>\n",
       "      <td>-18.526806</td>\n",
       "      <td>2.220697</td>\n",
       "      <td>-</td>\n",
       "      <td>4</td>\n",
       "      <td>-26.296421</td>\n",
       "      <td>8.078058</td>\n",
       "      <td>1.347806</td>\n",
       "      <td>-4.543059</td>\n",
       "      <td>4.086656</td>\n",
       "      <td>1.270361</td>\n",
       "    </tr>\n",
       "    <tr>\n",
       "      <th>...</th>\n",
       "      <td>...</td>\n",
       "      <td>...</td>\n",
       "      <td>...</td>\n",
       "      <td>...</td>\n",
       "      <td>...</td>\n",
       "      <td>...</td>\n",
       "      <td>...</td>\n",
       "      <td>...</td>\n",
       "      <td>...</td>\n",
       "      <td>...</td>\n",
       "      <td>...</td>\n",
       "      <td>...</td>\n",
       "    </tr>\n",
       "    <tr>\n",
       "      <th>383</th>\n",
       "      <td>984</td>\n",
       "      <td>41709.png</td>\n",
       "      <td>26.059380</td>\n",
       "      <td>13.306919</td>\n",
       "      <td>-</td>\n",
       "      <td>6</td>\n",
       "      <td>25.258251</td>\n",
       "      <td>-10.220926</td>\n",
       "      <td>0.576519</td>\n",
       "      <td>-21.243225</td>\n",
       "      <td>-3.662091</td>\n",
       "      <td>-13.990673</td>\n",
       "    </tr>\n",
       "    <tr>\n",
       "      <th>384</th>\n",
       "      <td>985</td>\n",
       "      <td>41764.png</td>\n",
       "      <td>23.157776</td>\n",
       "      <td>5.367370</td>\n",
       "      <td>-</td>\n",
       "      <td>6</td>\n",
       "      <td>28.215183</td>\n",
       "      <td>-14.045702</td>\n",
       "      <td>-6.917757</td>\n",
       "      <td>-14.164772</td>\n",
       "      <td>-5.786173</td>\n",
       "      <td>-5.449196</td>\n",
       "    </tr>\n",
       "    <tr>\n",
       "      <th>385</th>\n",
       "      <td>986</td>\n",
       "      <td>41902.png</td>\n",
       "      <td>11.706068</td>\n",
       "      <td>22.686881</td>\n",
       "      <td>-</td>\n",
       "      <td>2</td>\n",
       "      <td>8.601284</td>\n",
       "      <td>-1.526957</td>\n",
       "      <td>6.090936</td>\n",
       "      <td>12.498614</td>\n",
       "      <td>12.599379</td>\n",
       "      <td>18.169541</td>\n",
       "    </tr>\n",
       "    <tr>\n",
       "      <th>386</th>\n",
       "      <td>987</td>\n",
       "      <td>41945.png</td>\n",
       "      <td>-17.166029</td>\n",
       "      <td>-11.982942</td>\n",
       "      <td>-</td>\n",
       "      <td>7</td>\n",
       "      <td>-25.343251</td>\n",
       "      <td>20.033353</td>\n",
       "      <td>-7.833563</td>\n",
       "      <td>5.472192</td>\n",
       "      <td>2.574901</td>\n",
       "      <td>2.847764</td>\n",
       "    </tr>\n",
       "    <tr>\n",
       "      <th>387</th>\n",
       "      <td>988</td>\n",
       "      <td>41992.png</td>\n",
       "      <td>-32.566888</td>\n",
       "      <td>0.245874</td>\n",
       "      <td>-</td>\n",
       "      <td>9</td>\n",
       "      <td>-22.321140</td>\n",
       "      <td>8.967947</td>\n",
       "      <td>-0.487118</td>\n",
       "      <td>-9.062128</td>\n",
       "      <td>8.469384</td>\n",
       "      <td>-20.674587</td>\n",
       "    </tr>\n",
       "  </tbody>\n",
       "</table>\n",
       "<p>388 rows × 12 columns</p>\n",
       "</div>"
      ],
      "text/plain": [
       "     sample_id      names         X1         X2 manual_label  labels  \\\n",
       "0          601  25895.png   8.606181   3.712231            -       1   \n",
       "1          602  25945.png -22.155696  -2.295570            -       9   \n",
       "2          603  26016.png  27.955822  -1.602836            -       0   \n",
       "3          604  26025.png  12.836821  -8.692057            -       3   \n",
       "4          605  26038.png -18.526806   2.220697            -       4   \n",
       "..         ...        ...        ...        ...          ...     ...   \n",
       "383        984  41709.png  26.059380  13.306919            -       6   \n",
       "384        985  41764.png  23.157776   5.367370            -       6   \n",
       "385        986  41902.png  11.706068  22.686881            -       2   \n",
       "386        987  41945.png -17.166029 -11.982942            -       7   \n",
       "387        988  41992.png -32.566888   0.245874            -       9   \n",
       "\n",
       "         tsn_1      tsn_2      tsn_3      tsn_4      tsn_5      tsn_6  \n",
       "0     8.119115   9.607861  -5.338228  -4.246046 -10.275189  -4.740141  \n",
       "1   -28.255251   9.624796  -3.237398   1.525049   2.949544  -4.735782  \n",
       "2    25.939780 -23.938897   0.278443   3.290211   0.146724   2.510815  \n",
       "3     4.610268  -8.028374  12.176372   3.200511  -6.739687 -17.110702  \n",
       "4   -26.296421   8.078058   1.347806  -4.543059   4.086656   1.270361  \n",
       "..         ...        ...        ...        ...        ...        ...  \n",
       "383  25.258251 -10.220926   0.576519 -21.243225  -3.662091 -13.990673  \n",
       "384  28.215183 -14.045702  -6.917757 -14.164772  -5.786173  -5.449196  \n",
       "385   8.601284  -1.526957   6.090936  12.498614  12.599379  18.169541  \n",
       "386 -25.343251  20.033353  -7.833563   5.472192   2.574901   2.847764  \n",
       "387 -22.321140   8.967947  -0.487118  -9.062128   8.469384 -20.674587  \n",
       "\n",
       "[388 rows x 12 columns]"
      ]
     },
     "execution_count": 257,
     "metadata": {},
     "output_type": "execute_result"
    }
   ],
   "source": [
    "_list_databases_test[0]"
   ]
  },
  {
   "cell_type": "markdown",
   "id": "c191f5c9",
   "metadata": {},
   "source": [
    "# DEL 2"
   ]
  },
  {
   "cell_type": "code",
   "execution_count": 258,
   "id": "25bf10f2",
   "metadata": {},
   "outputs": [],
   "source": [
    "import random"
   ]
  },
  {
   "cell_type": "code",
   "execution_count": 259,
   "id": "f700c512",
   "metadata": {},
   "outputs": [
    {
     "data": {
      "text/plain": [
       "0.38"
      ]
     },
     "execution_count": 259,
     "metadata": {},
     "output_type": "execute_result"
    }
   ],
   "source": [
    "random.sample(range(100), 1)[0]/100"
   ]
  },
  {
   "cell_type": "code",
   "execution_count": 260,
   "id": "087f0965",
   "metadata": {},
   "outputs": [],
   "source": [
    "_list_simulation_sample_name = ['NSS', 'SPB','DEN', 'OUT']\n",
    "for i_db in range(len(_list_databases_training)):\n",
    "\n",
    "    _list_simulation_samples.append([])\n",
    "\n",
    "    #NSS:\n",
    "    #_temp_list = sim.f_NSS(_list_databases_training[i_db])\n",
    "    #_list_simulation_samples[i_db].append(_temp_list)\n",
    "    _list_simulation_samples[i_db].append(random.sample(range(600), 600))    \n",
    "    \n",
    "\n",
    "    #SPB:\n",
    "    #_temp_list = sim.f_NSS(_list_databases_training[i_db])\n",
    "    #_list_simulation_samples[i_db].append(_temp_list)\n",
    "    _list_simulation_samples[i_db].append(random.sample(range(600), 600))    \n",
    "\n",
    "    #DEN:\n",
    "    #_temp_list = sim.f_DEN(_list_databases_training[i_db])\n",
    "    #_list_simulation_samples[i_db].append(_temp_list)    \n",
    "    _list_simulation_samples[i_db].append(random.sample(range(600), 600))        \n",
    "\n",
    "    #OUT:\n",
    "    #_temp_list = sim.f_OUT(_list_databases_training[i_db])\n",
    "    #_list_simulation_samples[i_db].append(_temp_list)    \n",
    "    _list_simulation_samples[i_db].append(random.sample(range(600), 600))        \n",
    "\n",
    "    "
   ]
  },
  {
   "cell_type": "code",
   "execution_count": 261,
   "id": "e85c4edb",
   "metadata": {},
   "outputs": [
    {
     "name": "stdout",
     "output_type": "stream",
     "text": [
      "1\n",
      "4\n",
      "600\n",
      "600\n",
      "600\n",
      "600\n"
     ]
    }
   ],
   "source": [
    "print (len(_list_simulation_samples))\n",
    "print (len(_list_simulation_samples[0]))\n",
    "print (len(_list_simulation_samples[0][0]))\n",
    "print (len(_list_simulation_samples[0][1]))\n",
    "print (len(_list_simulation_samples[0][2]))\n",
    "print (len(_list_simulation_samples[0][3]))"
   ]
  },
  {
   "cell_type": "code",
   "execution_count": null,
   "id": "b39e5c30",
   "metadata": {},
   "outputs": [],
   "source": []
  },
  {
   "cell_type": "code",
   "execution_count": 262,
   "id": "d09c8669",
   "metadata": {},
   "outputs": [
    {
     "name": "stdout",
     "output_type": "stream",
     "text": [
      "db =  0\n",
      "simulation =  0\n",
      "model =  0\n",
      "------------------\n",
      "\n",
      "db =  0\n",
      "simulation =  1\n",
      "model =  0\n",
      "------------------\n",
      "\n",
      "db =  0\n",
      "simulation =  2\n",
      "model =  0\n",
      "------------------\n",
      "\n",
      "db =  0\n",
      "simulation =  3\n",
      "model =  0\n",
      "------------------\n",
      "\n"
     ]
    }
   ],
   "source": [
    "# ML FRAMEWORK\n",
    "for i_db in range(len(_list_databases_training)):\n",
    "#     for i_sim_db in range(len(_list_simulation_sample_name)):        \n",
    "    for i_sim_samples in range(len(_list_simulation_samples[i_db])):\n",
    "        for i_model in range(len(_list_models)):            \n",
    "\n",
    "            _db = _list_databases_training[i_db]\n",
    "            _db_test = _list_databases_test[i_db]\n",
    "            _samples = _list_simulation_samples[i_db][i_sim_samples]\n",
    "#             _model = _list_models[i_model]\n",
    "\n",
    "            _temp_X_columns = list(_db.loc[:,_db.columns.str.startswith(\"X\")].columns)\n",
    "\n",
    "#             print(\"db = \", _db.shape)\n",
    "#             print(\"_db_test = \", _db_test.shape)\n",
    "#             print(\"_samples = \", len(_samples), \" ==\" , _samples[0:5])\n",
    "#             print(\"------------------\\n\")\n",
    "      \n",
    "    \n",
    "            print(\"db = \", i_db)\n",
    "            print(\"simulation = \", i_sim_samples)\n",
    "            print(\"model = \", i_model)\n",
    "            print(\"------------------\\n\")\n",
    "            \n",
    "            \n",
    "            \n",
    "\n",
    "#             #Framework de Accuracy\n",
    "#             for i in range(len(_samples)):\n",
    "\n",
    "#                 _samples_temp = _samples[0:i+1]\n",
    "\n",
    "#                 #prepara X and y\n",
    "#                 X_train = _db[_db['sample_id'].isin(_samples_temp)].loc[:,_temp_X_columns]\n",
    "#                 y_train_true = _db[_db['sample_id'].isin(_samples_temp)].loc[:,'label']\n",
    "\n",
    "#                 #FIT - train model:\n",
    "#                 _list_models[i_model].fit(X_train, y_train_true)\n",
    "\n",
    "#                 #db test (evaluation):\n",
    "#                 X_test = _db_test.loc[:,_temp_X_columns]\n",
    "#                 y_test_true = _db_test.loc[:,'label']\n",
    "\n",
    "#                 #Predict:\n",
    "#                 y_test_predict = _list_models[i_model].predict_proba()\n",
    "\n",
    "#                 #Accuracy Results \n",
    "#                 _results_accuracy = accuracy_score(y_test_true, y_test_predict)\n",
    "                    # LIS OT ACCURACY!!!!!!!\n",
    "            # LITS:\n",
    "            _label_numbers = np.arange(1, 301, 1).tolist()\n",
    "            _results_accuracy = random.sample(range(15), 15)\n",
    "\n",
    "            #OUTPUT:\n",
    "            #name:\n",
    "            _name_temp = _list_databases_name[i_db] + ' | ' + _list_simulation_sample_name[i_sim_samples] + ' | ' + _list_models_name[i_model]\n",
    "            _model_output[0].append(_name_temp)\n",
    "            #qtd_lablls\n",
    "            #dbs...\n",
    "#             _model_output[1].append([[]])                \n",
    "            _model_output[1].append(_label_numbers)\n",
    "            #accuracy\n",
    "#             _model_output[2].append([[]])                \n",
    "            _model_output[2].append(_results_accuracy)                        "
   ]
  },
  {
   "cell_type": "code",
   "execution_count": 269,
   "id": "a4e4fb7e",
   "metadata": {},
   "outputs": [
    {
     "data": {
      "text/plain": [
       "'database_1 | SPB | Logistic Regression'"
      ]
     },
     "execution_count": 269,
     "metadata": {},
     "output_type": "execute_result"
    }
   ],
   "source": [
    "_model_output[0][1]"
   ]
  },
  {
   "cell_type": "code",
   "execution_count": 274,
   "id": "d7eab3d6",
   "metadata": {},
   "outputs": [
    {
     "data": {
      "text/plain": [
       "[11, 1, 2, 14, 6, 3, 5, 4, 9, 10, 0, 13, 12, 7, 8]"
      ]
     },
     "execution_count": 274,
     "metadata": {},
     "output_type": "execute_result"
    }
   ],
   "source": [
    "_model_output[2][3]"
   ]
  },
  {
   "cell_type": "code",
   "execution_count": null,
   "id": "c668865a",
   "metadata": {},
   "outputs": [],
   "source": []
  },
  {
   "cell_type": "code",
   "execution_count": null,
   "id": "f321d351",
   "metadata": {},
   "outputs": [],
   "source": []
  },
  {
   "cell_type": "code",
   "execution_count": 249,
   "id": "cbbae736",
   "metadata": {},
   "outputs": [],
   "source": [
    "\n",
    "_model_output = [\n",
    "\n",
    "    #Name in the following strucutre: \n",
    "\n",
    "    [\n",
    "\n",
    "        # \"Dataset Name | Simulation Name | Model Name\"\n",
    "\n",
    "    ],\n",
    "\n",
    "\n",
    "    #Qtd of Labels:\n",
    "    [\n",
    "\n",
    "    ],\n",
    "\n",
    "    #Accuracy:\n",
    "    [\n",
    " \n",
    "    ],\n",
    "]"
   ]
  },
  {
   "cell_type": "code",
   "execution_count": 250,
   "id": "87361467",
   "metadata": {},
   "outputs": [
    {
     "data": {
      "text/plain": [
       "[[], [], []]"
      ]
     },
     "execution_count": 250,
     "metadata": {},
     "output_type": "execute_result"
    }
   ],
   "source": [
    "_model_output"
   ]
  },
  {
   "cell_type": "code",
   "execution_count": 251,
   "id": "77dfc2a1",
   "metadata": {},
   "outputs": [
    {
     "data": {
      "text/plain": [
       "[['Combination 1'], [], []]"
      ]
     },
     "execution_count": 251,
     "metadata": {},
     "output_type": "execute_result"
    }
   ],
   "source": [
    "_model_output[0].append(\"Combination 1\")\n",
    "_model_output"
   ]
  },
  {
   "cell_type": "code",
   "execution_count": null,
   "id": "955874a8",
   "metadata": {},
   "outputs": [],
   "source": [
    "_model_output[1].append()\n",
    "_model_output"
   ]
  },
  {
   "cell_type": "code",
   "execution_count": null,
   "id": "df365e4b",
   "metadata": {},
   "outputs": [],
   "source": []
  },
  {
   "cell_type": "code",
   "execution_count": null,
   "id": "e34d403f",
   "metadata": {},
   "outputs": [],
   "source": []
  },
  {
   "cell_type": "code",
   "execution_count": null,
   "id": "e9878d97",
   "metadata": {},
   "outputs": [],
   "source": []
  },
  {
   "cell_type": "code",
   "execution_count": null,
   "id": "9f79fd5f",
   "metadata": {},
   "outputs": [],
   "source": []
  },
  {
   "cell_type": "code",
   "execution_count": null,
   "id": "82e86a6c",
   "metadata": {},
   "outputs": [],
   "source": []
  },
  {
   "cell_type": "code",
   "execution_count": null,
   "id": "e5afcd6b",
   "metadata": {},
   "outputs": [],
   "source": []
  },
  {
   "cell_type": "code",
   "execution_count": 242,
   "id": "b7cffb7b",
   "metadata": {},
   "outputs": [
    {
     "name": "stdout",
     "output_type": "stream",
     "text": [
      "0\n",
      "1\n",
      "0\n"
     ]
    }
   ],
   "source": [
    "print (i_db)\n",
    "print (i_sim_samples)\n",
    "print (i_model)"
   ]
  },
  {
   "cell_type": "code",
   "execution_count": 248,
   "id": "c244df85",
   "metadata": {},
   "outputs": [
    {
     "data": {
      "text/plain": [
       "[[[1,\n",
       "   2,\n",
       "   3,\n",
       "   4,\n",
       "   5,\n",
       "   6,\n",
       "   7,\n",
       "   8,\n",
       "   9,\n",
       "   10,\n",
       "   11,\n",
       "   12,\n",
       "   13,\n",
       "   14,\n",
       "   15,\n",
       "   16,\n",
       "   17,\n",
       "   18,\n",
       "   19,\n",
       "   20,\n",
       "   21,\n",
       "   22,\n",
       "   23,\n",
       "   24,\n",
       "   25,\n",
       "   26,\n",
       "   27,\n",
       "   28,\n",
       "   29,\n",
       "   30,\n",
       "   31,\n",
       "   32,\n",
       "   33,\n",
       "   34,\n",
       "   35,\n",
       "   36,\n",
       "   37,\n",
       "   38,\n",
       "   39,\n",
       "   40,\n",
       "   41,\n",
       "   42,\n",
       "   43,\n",
       "   44,\n",
       "   45,\n",
       "   46,\n",
       "   47,\n",
       "   48,\n",
       "   49,\n",
       "   50,\n",
       "   51,\n",
       "   52,\n",
       "   53,\n",
       "   54,\n",
       "   55,\n",
       "   56,\n",
       "   57,\n",
       "   58,\n",
       "   59,\n",
       "   60,\n",
       "   61,\n",
       "   62,\n",
       "   63,\n",
       "   64,\n",
       "   65,\n",
       "   66,\n",
       "   67,\n",
       "   68,\n",
       "   69,\n",
       "   70,\n",
       "   71,\n",
       "   72,\n",
       "   73,\n",
       "   74,\n",
       "   75,\n",
       "   76,\n",
       "   77,\n",
       "   78,\n",
       "   79,\n",
       "   80,\n",
       "   81,\n",
       "   82,\n",
       "   83,\n",
       "   84,\n",
       "   85,\n",
       "   86,\n",
       "   87,\n",
       "   88,\n",
       "   89,\n",
       "   90,\n",
       "   91,\n",
       "   92,\n",
       "   93,\n",
       "   94,\n",
       "   95,\n",
       "   96,\n",
       "   97,\n",
       "   98,\n",
       "   99,\n",
       "   100,\n",
       "   101,\n",
       "   102,\n",
       "   103,\n",
       "   104,\n",
       "   105,\n",
       "   106,\n",
       "   107,\n",
       "   108,\n",
       "   109,\n",
       "   110,\n",
       "   111,\n",
       "   112,\n",
       "   113,\n",
       "   114,\n",
       "   115,\n",
       "   116,\n",
       "   117,\n",
       "   118,\n",
       "   119,\n",
       "   120,\n",
       "   121,\n",
       "   122,\n",
       "   123,\n",
       "   124,\n",
       "   125,\n",
       "   126,\n",
       "   127,\n",
       "   128,\n",
       "   129,\n",
       "   130,\n",
       "   131,\n",
       "   132,\n",
       "   133,\n",
       "   134,\n",
       "   135,\n",
       "   136,\n",
       "   137,\n",
       "   138,\n",
       "   139,\n",
       "   140,\n",
       "   141,\n",
       "   142,\n",
       "   143,\n",
       "   144,\n",
       "   145,\n",
       "   146,\n",
       "   147,\n",
       "   148,\n",
       "   149,\n",
       "   150,\n",
       "   151,\n",
       "   152,\n",
       "   153,\n",
       "   154,\n",
       "   155,\n",
       "   156,\n",
       "   157,\n",
       "   158,\n",
       "   159,\n",
       "   160,\n",
       "   161,\n",
       "   162,\n",
       "   163,\n",
       "   164,\n",
       "   165,\n",
       "   166,\n",
       "   167,\n",
       "   168,\n",
       "   169,\n",
       "   170,\n",
       "   171,\n",
       "   172,\n",
       "   173,\n",
       "   174,\n",
       "   175,\n",
       "   176,\n",
       "   177,\n",
       "   178,\n",
       "   179,\n",
       "   180,\n",
       "   181,\n",
       "   182,\n",
       "   183,\n",
       "   184,\n",
       "   185,\n",
       "   186,\n",
       "   187,\n",
       "   188,\n",
       "   189,\n",
       "   190,\n",
       "   191,\n",
       "   192,\n",
       "   193,\n",
       "   194,\n",
       "   195,\n",
       "   196,\n",
       "   197,\n",
       "   198,\n",
       "   199,\n",
       "   200,\n",
       "   201,\n",
       "   202,\n",
       "   203,\n",
       "   204,\n",
       "   205,\n",
       "   206,\n",
       "   207,\n",
       "   208,\n",
       "   209,\n",
       "   210,\n",
       "   211,\n",
       "   212,\n",
       "   213,\n",
       "   214,\n",
       "   215,\n",
       "   216,\n",
       "   217,\n",
       "   218,\n",
       "   219,\n",
       "   220,\n",
       "   221,\n",
       "   222,\n",
       "   223,\n",
       "   224,\n",
       "   225,\n",
       "   226,\n",
       "   227,\n",
       "   228,\n",
       "   229,\n",
       "   230,\n",
       "   231,\n",
       "   232,\n",
       "   233,\n",
       "   234,\n",
       "   235,\n",
       "   236,\n",
       "   237,\n",
       "   238,\n",
       "   239,\n",
       "   240,\n",
       "   241,\n",
       "   242,\n",
       "   243,\n",
       "   244,\n",
       "   245,\n",
       "   246,\n",
       "   247,\n",
       "   248,\n",
       "   249,\n",
       "   250,\n",
       "   251,\n",
       "   252,\n",
       "   253,\n",
       "   254,\n",
       "   255,\n",
       "   256,\n",
       "   257,\n",
       "   258,\n",
       "   259,\n",
       "   260,\n",
       "   261,\n",
       "   262,\n",
       "   263,\n",
       "   264,\n",
       "   265,\n",
       "   266,\n",
       "   267,\n",
       "   268,\n",
       "   269,\n",
       "   270,\n",
       "   271,\n",
       "   272,\n",
       "   273,\n",
       "   274,\n",
       "   275,\n",
       "   276,\n",
       "   277,\n",
       "   278,\n",
       "   279,\n",
       "   280,\n",
       "   281,\n",
       "   282,\n",
       "   283,\n",
       "   284,\n",
       "   285,\n",
       "   286,\n",
       "   287,\n",
       "   288,\n",
       "   289,\n",
       "   290,\n",
       "   291,\n",
       "   292,\n",
       "   293,\n",
       "   294,\n",
       "   295,\n",
       "   296,\n",
       "   297,\n",
       "   298,\n",
       "   299,\n",
       "   300]]]"
      ]
     },
     "execution_count": 248,
     "metadata": {},
     "output_type": "execute_result"
    }
   ],
   "source": [
    "_model_output[1][0]"
   ]
  },
  {
   "cell_type": "code",
   "execution_count": null,
   "id": "228f9afd",
   "metadata": {},
   "outputs": [],
   "source": []
  },
  {
   "cell_type": "code",
   "execution_count": null,
   "id": "369751d3",
   "metadata": {},
   "outputs": [],
   "source": []
  },
  {
   "cell_type": "code",
   "execution_count": null,
   "id": "341e2e90",
   "metadata": {},
   "outputs": [],
   "source": []
  },
  {
   "cell_type": "code",
   "execution_count": null,
   "id": "fb786d1e",
   "metadata": {},
   "outputs": [],
   "source": []
  },
  {
   "cell_type": "code",
   "execution_count": 188,
   "id": "65903299",
   "metadata": {},
   "outputs": [
    {
     "data": {
      "text/plain": [
       "0"
      ]
     },
     "execution_count": 188,
     "metadata": {},
     "output_type": "execute_result"
    }
   ],
   "source": [
    "i_model"
   ]
  },
  {
   "cell_type": "code",
   "execution_count": 218,
   "id": "bb23cc11",
   "metadata": {},
   "outputs": [
    {
     "data": {
      "text/plain": [
       "list"
      ]
     },
     "execution_count": 218,
     "metadata": {},
     "output_type": "execute_result"
    }
   ],
   "source": [
    "type(_label_numbers)"
   ]
  },
  {
   "cell_type": "code",
   "execution_count": null,
   "id": "e925d197",
   "metadata": {},
   "outputs": [],
   "source": []
  },
  {
   "cell_type": "code",
   "execution_count": 209,
   "id": "dd2781fe",
   "metadata": {},
   "outputs": [
    {
     "data": {
      "text/plain": [
       "2"
      ]
     },
     "execution_count": 209,
     "metadata": {},
     "output_type": "execute_result"
    }
   ],
   "source": [
    "len(_model_output[1])"
   ]
  },
  {
   "cell_type": "code",
   "execution_count": 213,
   "id": "e0caca33",
   "metadata": {},
   "outputs": [
    {
     "data": {
      "text/plain": [
       "[[[]]]"
      ]
     },
     "execution_count": 213,
     "metadata": {},
     "output_type": "execute_result"
    }
   ],
   "source": [
    "_model_output[1][1]"
   ]
  },
  {
   "cell_type": "code",
   "execution_count": 231,
   "id": "8d566209",
   "metadata": {},
   "outputs": [
    {
     "name": "stdout",
     "output_type": "stream",
     "text": [
      "0\n",
      "0\n",
      "0\n"
     ]
    }
   ],
   "source": [
    "print (i_db)\n",
    "print (i_sim_samples)\n",
    "print (i_model)"
   ]
  },
  {
   "cell_type": "code",
   "execution_count": 193,
   "id": "120379db",
   "metadata": {},
   "outputs": [
    {
     "data": {
      "text/plain": [
       "[[[[1,\n",
       "    2,\n",
       "    3,\n",
       "    4,\n",
       "    5,\n",
       "    6,\n",
       "    7,\n",
       "    8,\n",
       "    9,\n",
       "    10,\n",
       "    11,\n",
       "    12,\n",
       "    13,\n",
       "    14,\n",
       "    15,\n",
       "    16,\n",
       "    17,\n",
       "    18,\n",
       "    19,\n",
       "    20,\n",
       "    21,\n",
       "    22,\n",
       "    23,\n",
       "    24,\n",
       "    25,\n",
       "    26,\n",
       "    27,\n",
       "    28,\n",
       "    29,\n",
       "    30,\n",
       "    31,\n",
       "    32,\n",
       "    33,\n",
       "    34,\n",
       "    35,\n",
       "    36,\n",
       "    37,\n",
       "    38,\n",
       "    39,\n",
       "    40,\n",
       "    41,\n",
       "    42,\n",
       "    43,\n",
       "    44,\n",
       "    45,\n",
       "    46,\n",
       "    47,\n",
       "    48,\n",
       "    49,\n",
       "    50,\n",
       "    51,\n",
       "    52,\n",
       "    53,\n",
       "    54,\n",
       "    55,\n",
       "    56,\n",
       "    57,\n",
       "    58,\n",
       "    59,\n",
       "    60,\n",
       "    61,\n",
       "    62,\n",
       "    63,\n",
       "    64,\n",
       "    65,\n",
       "    66,\n",
       "    67,\n",
       "    68,\n",
       "    69,\n",
       "    70,\n",
       "    71,\n",
       "    72,\n",
       "    73,\n",
       "    74,\n",
       "    75,\n",
       "    76,\n",
       "    77,\n",
       "    78,\n",
       "    79,\n",
       "    80,\n",
       "    81,\n",
       "    82,\n",
       "    83,\n",
       "    84,\n",
       "    85,\n",
       "    86,\n",
       "    87,\n",
       "    88,\n",
       "    89,\n",
       "    90,\n",
       "    91,\n",
       "    92,\n",
       "    93,\n",
       "    94,\n",
       "    95,\n",
       "    96,\n",
       "    97,\n",
       "    98,\n",
       "    99,\n",
       "    100,\n",
       "    101,\n",
       "    102,\n",
       "    103,\n",
       "    104,\n",
       "    105,\n",
       "    106,\n",
       "    107,\n",
       "    108,\n",
       "    109,\n",
       "    110,\n",
       "    111,\n",
       "    112,\n",
       "    113,\n",
       "    114,\n",
       "    115,\n",
       "    116,\n",
       "    117,\n",
       "    118,\n",
       "    119,\n",
       "    120,\n",
       "    121,\n",
       "    122,\n",
       "    123,\n",
       "    124,\n",
       "    125,\n",
       "    126,\n",
       "    127,\n",
       "    128,\n",
       "    129,\n",
       "    130,\n",
       "    131,\n",
       "    132,\n",
       "    133,\n",
       "    134,\n",
       "    135,\n",
       "    136,\n",
       "    137,\n",
       "    138,\n",
       "    139,\n",
       "    140,\n",
       "    141,\n",
       "    142,\n",
       "    143,\n",
       "    144,\n",
       "    145,\n",
       "    146,\n",
       "    147,\n",
       "    148,\n",
       "    149,\n",
       "    150,\n",
       "    151,\n",
       "    152,\n",
       "    153,\n",
       "    154,\n",
       "    155,\n",
       "    156,\n",
       "    157,\n",
       "    158,\n",
       "    159,\n",
       "    160,\n",
       "    161,\n",
       "    162,\n",
       "    163,\n",
       "    164,\n",
       "    165,\n",
       "    166,\n",
       "    167,\n",
       "    168,\n",
       "    169,\n",
       "    170,\n",
       "    171,\n",
       "    172,\n",
       "    173,\n",
       "    174,\n",
       "    175,\n",
       "    176,\n",
       "    177,\n",
       "    178,\n",
       "    179,\n",
       "    180,\n",
       "    181,\n",
       "    182,\n",
       "    183,\n",
       "    184,\n",
       "    185,\n",
       "    186,\n",
       "    187,\n",
       "    188,\n",
       "    189,\n",
       "    190,\n",
       "    191,\n",
       "    192,\n",
       "    193,\n",
       "    194,\n",
       "    195,\n",
       "    196,\n",
       "    197,\n",
       "    198,\n",
       "    199,\n",
       "    200,\n",
       "    201,\n",
       "    202,\n",
       "    203,\n",
       "    204,\n",
       "    205,\n",
       "    206,\n",
       "    207,\n",
       "    208,\n",
       "    209,\n",
       "    210,\n",
       "    211,\n",
       "    212,\n",
       "    213,\n",
       "    214,\n",
       "    215,\n",
       "    216,\n",
       "    217,\n",
       "    218,\n",
       "    219,\n",
       "    220,\n",
       "    221,\n",
       "    222,\n",
       "    223,\n",
       "    224,\n",
       "    225,\n",
       "    226,\n",
       "    227,\n",
       "    228,\n",
       "    229,\n",
       "    230,\n",
       "    231,\n",
       "    232,\n",
       "    233,\n",
       "    234,\n",
       "    235,\n",
       "    236,\n",
       "    237,\n",
       "    238,\n",
       "    239,\n",
       "    240,\n",
       "    241,\n",
       "    242,\n",
       "    243,\n",
       "    244,\n",
       "    245,\n",
       "    246,\n",
       "    247,\n",
       "    248,\n",
       "    249,\n",
       "    250,\n",
       "    251,\n",
       "    252,\n",
       "    253,\n",
       "    254,\n",
       "    255,\n",
       "    256,\n",
       "    257,\n",
       "    258,\n",
       "    259,\n",
       "    260,\n",
       "    261,\n",
       "    262,\n",
       "    263,\n",
       "    264,\n",
       "    265,\n",
       "    266,\n",
       "    267,\n",
       "    268,\n",
       "    269,\n",
       "    270,\n",
       "    271,\n",
       "    272,\n",
       "    273,\n",
       "    274,\n",
       "    275,\n",
       "    276,\n",
       "    277,\n",
       "    278,\n",
       "    279,\n",
       "    280,\n",
       "    281,\n",
       "    282,\n",
       "    283,\n",
       "    284,\n",
       "    285,\n",
       "    286,\n",
       "    287,\n",
       "    288,\n",
       "    289,\n",
       "    290,\n",
       "    291,\n",
       "    292,\n",
       "    293,\n",
       "    294,\n",
       "    295,\n",
       "    296,\n",
       "    297,\n",
       "    298,\n",
       "    299,\n",
       "    300]]]]"
      ]
     },
     "execution_count": 193,
     "metadata": {},
     "output_type": "execute_result"
    }
   ],
   "source": [
    "_model_output[1][0]"
   ]
  },
  {
   "cell_type": "code",
   "execution_count": null,
   "id": "3b230175",
   "metadata": {},
   "outputs": [],
   "source": []
  },
  {
   "cell_type": "code",
   "execution_count": null,
   "id": "7fdd968e",
   "metadata": {},
   "outputs": [],
   "source": []
  },
  {
   "cell_type": "code",
   "execution_count": null,
   "id": "ebef4fc7",
   "metadata": {},
   "outputs": [],
   "source": []
  },
  {
   "cell_type": "code",
   "execution_count": 176,
   "id": "6dff6491",
   "metadata": {},
   "outputs": [],
   "source": [
    "import numpy as np"
   ]
  },
  {
   "cell_type": "code",
   "execution_count": null,
   "id": "cb2dce76",
   "metadata": {},
   "outputs": [],
   "source": []
  },
  {
   "cell_type": "code",
   "execution_count": null,
   "id": "ca5a37e2",
   "metadata": {},
   "outputs": [],
   "source": []
  },
  {
   "cell_type": "code",
   "execution_count": 155,
   "id": "bd9d2d30",
   "metadata": {},
   "outputs": [
    {
     "data": {
      "text/plain": [
       "[['database_1 | NSS | Logistic Regression',\n",
       "  'database_1 | NSS | Logistic Regression',\n",
       "  'database_1 | SPB | Logistic Regression'],\n",
       " [[[[2, 2]]], [[[]]], [[[]]]],\n",
       " [[[[0.49]]], [[[]]]]]"
      ]
     },
     "execution_count": 155,
     "metadata": {},
     "output_type": "execute_result"
    }
   ],
   "source": [
    "_model_outpa\n",
    "raut"
   ]
  },
  {
   "cell_type": "code",
   "execution_count": null,
   "id": "a904de6b",
   "metadata": {},
   "outputs": [],
   "source": []
  },
  {
   "cell_type": "code",
   "execution_count": null,
   "id": "ae6c06a6",
   "metadata": {},
   "outputs": [],
   "source": []
  },
  {
   "cell_type": "code",
   "execution_count": null,
   "id": "54907453",
   "metadata": {},
   "outputs": [],
   "source": []
  },
  {
   "cell_type": "code",
   "execution_count": null,
   "id": "d25a0b0c",
   "metadata": {},
   "outputs": [],
   "source": []
  },
  {
   "cell_type": "code",
   "execution_count": 129,
   "id": "cb1d9d3c",
   "metadata": {},
   "outputs": [
    {
     "data": {
      "text/plain": [
       "[[], [], []]"
      ]
     },
     "execution_count": 129,
     "metadata": {},
     "output_type": "execute_result"
    }
   ],
   "source": [
    "_model_output[0]"
   ]
  },
  {
   "cell_type": "code",
   "execution_count": null,
   "id": "6c8f680e",
   "metadata": {},
   "outputs": [],
   "source": []
  },
  {
   "cell_type": "code",
   "execution_count": null,
   "id": "021c1c00",
   "metadata": {},
   "outputs": [],
   "source": []
  },
  {
   "cell_type": "code",
   "execution_count": 118,
   "id": "79f468ce",
   "metadata": {},
   "outputs": [
    {
     "data": {
      "text/plain": [
       "[['database_1 | OUT | Logistic Regression'], [[[[]]]], [[[[]]]]]"
      ]
     },
     "execution_count": 118,
     "metadata": {},
     "output_type": "execute_result"
    }
   ],
   "source": [
    "_model_output"
   ]
  },
  {
   "cell_type": "code",
   "execution_count": 117,
   "id": "86c54af4",
   "metadata": {},
   "outputs": [
    {
     "data": {
      "text/plain": [
       "0"
      ]
     },
     "execution_count": 117,
     "metadata": {},
     "output_type": "execute_result"
    }
   ],
   "source": [
    "i_sim_samples"
   ]
  },
  {
   "cell_type": "code",
   "execution_count": null,
   "id": "065f1daa",
   "metadata": {},
   "outputs": [],
   "source": []
  },
  {
   "cell_type": "code",
   "execution_count": null,
   "id": "aba02def",
   "metadata": {},
   "outputs": [],
   "source": []
  },
  {
   "cell_type": "code",
   "execution_count": 116,
   "id": "94d3ed59",
   "metadata": {},
   "outputs": [
    {
     "data": {
      "text/plain": [
       "0"
      ]
     },
     "execution_count": 116,
     "metadata": {},
     "output_type": "execute_result"
    }
   ],
   "source": [
    "i_db"
   ]
  },
  {
   "cell_type": "code",
   "execution_count": 115,
   "id": "f581a2cb",
   "metadata": {},
   "outputs": [
    {
     "data": {
      "text/plain": [
       "0"
      ]
     },
     "execution_count": 115,
     "metadata": {},
     "output_type": "execute_result"
    }
   ],
   "source": [
    "i_model"
   ]
  },
  {
   "cell_type": "code",
   "execution_count": 105,
   "id": "c35ee434",
   "metadata": {},
   "outputs": [
    {
     "data": {
      "text/plain": [
       "[[], [[[[]]]], [[[[]]]]]"
      ]
     },
     "execution_count": 105,
     "metadata": {},
     "output_type": "execute_result"
    }
   ],
   "source": [
    "_model_output"
   ]
  },
  {
   "cell_type": "code",
   "execution_count": 104,
   "id": "89568539",
   "metadata": {},
   "outputs": [],
   "source": [
    "_model_output[0] = []"
   ]
  },
  {
   "cell_type": "code",
   "execution_count": 110,
   "id": "a66dfb1a",
   "metadata": {},
   "outputs": [],
   "source": [
    "_model_output[0].append(_name)"
   ]
  },
  {
   "cell_type": "code",
   "execution_count": 112,
   "id": "7c38d6bf",
   "metadata": {},
   "outputs": [
    {
     "data": {
      "text/plain": [
       "['database_1 | OUT | Logistic Regression']"
      ]
     },
     "execution_count": 112,
     "metadata": {},
     "output_type": "execute_result"
    }
   ],
   "source": [
    "_model_output[0]"
   ]
  },
  {
   "cell_type": "code",
   "execution_count": 99,
   "id": "8221ac28",
   "metadata": {},
   "outputs": [],
   "source": [
    "_model_output[0].append('database_1 | OUT | Logistic Regression')"
   ]
  },
  {
   "cell_type": "code",
   "execution_count": 108,
   "id": "6feb13ca",
   "metadata": {},
   "outputs": [],
   "source": [
    "_name = _list_databases_name[i_db] + ' | ' + _list_simulation_sample_name[i_sim_samples] + ' | ' + _list_models_name[i_model]"
   ]
  },
  {
   "cell_type": "code",
   "execution_count": 109,
   "id": "1a50b1a6",
   "metadata": {},
   "outputs": [
    {
     "data": {
      "text/plain": [
       "'database_1 | OUT | Logistic Regression'"
      ]
     },
     "execution_count": 109,
     "metadata": {},
     "output_type": "execute_result"
    }
   ],
   "source": [
    "_name"
   ]
  },
  {
   "cell_type": "code",
   "execution_count": 85,
   "id": "2ddee446",
   "metadata": {},
   "outputs": [
    {
     "data": {
      "text/plain": [
       "3"
      ]
     },
     "execution_count": 85,
     "metadata": {},
     "output_type": "execute_result"
    }
   ],
   "source": [
    "i_sim_samples"
   ]
  },
  {
   "cell_type": "code",
   "execution_count": 84,
   "id": "32d16bd6",
   "metadata": {},
   "outputs": [
    {
     "ename": "IndexError",
     "evalue": "list index out of range",
     "output_type": "error",
     "traceback": [
      "\u001b[0;31m---------------------------------------------------------------------------\u001b[0m",
      "\u001b[0;31mIndexError\u001b[0m                                Traceback (most recent call last)",
      "\u001b[0;32m<ipython-input-84-4102c600b526>\u001b[0m in \u001b[0;36m<module>\u001b[0;34m\u001b[0m\n\u001b[0;32m----> 1\u001b[0;31m \u001b[0m_model_output\u001b[0m\u001b[0;34m[\u001b[0m\u001b[0;36m0\u001b[0m\u001b[0;34m]\u001b[0m\u001b[0;34m[\u001b[0m\u001b[0mi_db\u001b[0m\u001b[0;34m]\u001b[0m\u001b[0;34m[\u001b[0m\u001b[0mi_sim_samples\u001b[0m\u001b[0;34m]\u001b[0m\u001b[0;34m\u001b[0m\u001b[0;34m\u001b[0m\u001b[0m\n\u001b[0m",
      "\u001b[0;31mIndexError\u001b[0m: list index out of range"
     ]
    }
   ],
   "source": [
    "_model_output[0][i_db][i_sim_samples][i_model]"
   ]
  },
  {
   "cell_type": "code",
   "execution_count": 80,
   "id": "ee99e22a",
   "metadata": {},
   "outputs": [
    {
     "data": {
      "text/plain": [
       "0"
      ]
     },
     "execution_count": 80,
     "metadata": {},
     "output_type": "execute_result"
    }
   ],
   "source": [
    "i_model"
   ]
  },
  {
   "cell_type": "code",
   "execution_count": 79,
   "id": "e6f9fcef",
   "metadata": {},
   "outputs": [
    {
     "data": {
      "text/plain": [
       "'database_1 | OUT | Logistic Regression'"
      ]
     },
     "execution_count": 79,
     "metadata": {},
     "output_type": "execute_result"
    }
   ],
   "source": [
    "_list_databases_name[i_db] + ' | ' + \n",
    "_list_simulation_sample_name[i_sim_samples] + ' | ' + \n",
    "_list_models_name[i_model]"
   ]
  },
  {
   "cell_type": "code",
   "execution_count": null,
   "id": "d82f19fc",
   "metadata": {},
   "outputs": [],
   "source": []
  },
  {
   "cell_type": "code",
   "execution_count": null,
   "id": "661a946c",
   "metadata": {},
   "outputs": [],
   "source": []
  },
  {
   "cell_type": "code",
   "execution_count": 60,
   "id": "87ae3eea",
   "metadata": {},
   "outputs": [
    {
     "data": {
      "text/plain": [
       "1"
      ]
     },
     "execution_count": 60,
     "metadata": {},
     "output_type": "execute_result"
    }
   ],
   "source": [
    "len(_list_databases_training)"
   ]
  },
  {
   "cell_type": "code",
   "execution_count": 61,
   "id": "b2c51d71",
   "metadata": {},
   "outputs": [
    {
     "data": {
      "text/plain": [
       "4"
      ]
     },
     "execution_count": 61,
     "metadata": {},
     "output_type": "execute_result"
    }
   ],
   "source": [
    "len(_list_simulation_sample_name)"
   ]
  },
  {
   "cell_type": "code",
   "execution_count": 62,
   "id": "a714a58a",
   "metadata": {},
   "outputs": [
    {
     "data": {
      "text/plain": [
       "4"
      ]
     },
     "execution_count": 62,
     "metadata": {},
     "output_type": "execute_result"
    }
   ],
   "source": [
    "len(_list_simulation_samples[i_db])"
   ]
  },
  {
   "cell_type": "code",
   "execution_count": 67,
   "id": "0e0a36f8",
   "metadata": {},
   "outputs": [
    {
     "name": "stdout",
     "output_type": "stream",
     "text": [
      "0\n",
      "NSS\n",
      "1\n",
      "SPB\n",
      "2\n",
      "DEN\n",
      "3\n",
      "OUT\n"
     ]
    }
   ],
   "source": [
    "for i_db in range(len(_list_databases_training)):\n",
    "#     for i_sim_db in range(len(_list_simulation_sample_name)):        \n",
    "    for i_sim_samples in range(len(_list_simulation_samples[i_db])):\n",
    "        print(i_sim_samples)\n",
    "        print(_list_simulation_sample_name[i_sim_samples])"
   ]
  },
  {
   "cell_type": "code",
   "execution_count": null,
   "id": "cf09dcd1",
   "metadata": {},
   "outputs": [],
   "source": []
  },
  {
   "cell_type": "code",
   "execution_count": null,
   "id": "02232932",
   "metadata": {},
   "outputs": [],
   "source": []
  },
  {
   "cell_type": "code",
   "execution_count": null,
   "id": "839c680c",
   "metadata": {},
   "outputs": [],
   "source": [
    "for i_sim_db in range(len(_list_simulation_sample_name)):        \n",
    "    print"
   ]
  },
  {
   "cell_type": "code",
   "execution_count": 56,
   "id": "9df9680a",
   "metadata": {},
   "outputs": [
    {
     "data": {
      "text/plain": [
       "['NSS', 'SPB', 'DEN', 'OUT']"
      ]
     },
     "execution_count": 56,
     "metadata": {},
     "output_type": "execute_result"
    }
   ],
   "source": [
    "_list_simulation_sample_name"
   ]
  },
  {
   "cell_type": "code",
   "execution_count": 55,
   "id": "cf850aa9",
   "metadata": {},
   "outputs": [
    {
     "ename": "NameError",
     "evalue": "name 'i_sim_db' is not defined",
     "output_type": "error",
     "traceback": [
      "\u001b[0;31m---------------------------------------------------------------------------\u001b[0m",
      "\u001b[0;31mNameError\u001b[0m                                 Traceback (most recent call last)",
      "\u001b[0;32m<ipython-input-55-5ef02d2bef77>\u001b[0m in \u001b[0;36m<module>\u001b[0;34m\u001b[0m\n\u001b[0;32m----> 1\u001b[0;31m \u001b[0mi_sim_db\u001b[0m\u001b[0;34m\u001b[0m\u001b[0;34m\u001b[0m\u001b[0m\n\u001b[0m",
      "\u001b[0;31mNameError\u001b[0m: name 'i_sim_db' is not defined"
     ]
    }
   ],
   "source": [
    "i_sim_db"
   ]
  },
  {
   "cell_type": "code",
   "execution_count": 52,
   "id": "2a5e1e10",
   "metadata": {},
   "outputs": [
    {
     "ename": "NameError",
     "evalue": "name 'i_sim_db' is not defined",
     "output_type": "error",
     "traceback": [
      "\u001b[0;31m---------------------------------------------------------------------------\u001b[0m",
      "\u001b[0;31mNameError\u001b[0m                                 Traceback (most recent call last)",
      "\u001b[0;32m<ipython-input-52-ad8d126842fd>\u001b[0m in \u001b[0;36m<module>\u001b[0;34m\u001b[0m\n\u001b[0;32m----> 1\u001b[0;31m \u001b[0m_list_databases_name\u001b[0m\u001b[0;34m[\u001b[0m\u001b[0mi_db\u001b[0m\u001b[0;34m]\u001b[0m \u001b[0;34m+\u001b[0m \u001b[0;34m' | '\u001b[0m \u001b[0;34m+\u001b[0m \u001b[0m_list_simulation_sample_name\u001b[0m\u001b[0;34m[\u001b[0m\u001b[0mi_sim_db\u001b[0m\u001b[0;34m]\u001b[0m \u001b[0;34m+\u001b[0m \u001b[0;34m' | '\u001b[0m \u001b[0;34m+\u001b[0m \u001b[0m_list_models_name\u001b[0m\u001b[0;34m[\u001b[0m\u001b[0mi_model\u001b[0m\u001b[0;34m]\u001b[0m\u001b[0;34m\u001b[0m\u001b[0;34m\u001b[0m\u001b[0m\n\u001b[0m",
      "\u001b[0;31mNameError\u001b[0m: name 'i_sim_db' is not defined"
     ]
    }
   ],
   "source": [
    "_list_databases_name[i_db] + ' | ' + _list_simulation_sample_name[i_sim_db] + ' | ' + _list_models_name[i_model]"
   ]
  },
  {
   "cell_type": "code",
   "execution_count": null,
   "id": "596fae08",
   "metadata": {},
   "outputs": [],
   "source": []
  },
  {
   "cell_type": "code",
   "execution_count": 44,
   "id": "1ee29493",
   "metadata": {},
   "outputs": [
    {
     "data": {
      "text/plain": [
       "3"
      ]
     },
     "execution_count": 44,
     "metadata": {},
     "output_type": "execute_result"
    }
   ],
   "source": [
    "i_sim_samples"
   ]
  },
  {
   "cell_type": "code",
   "execution_count": 48,
   "id": "4beaaa51",
   "metadata": {},
   "outputs": [
    {
     "data": {
      "text/plain": [
       "[]"
      ]
     },
     "execution_count": 48,
     "metadata": {},
     "output_type": "execute_result"
    }
   ],
   "source": [
    "_model_output[0][0][0][0]"
   ]
  },
  {
   "cell_type": "code",
   "execution_count": 50,
   "id": "6e2e0f28",
   "metadata": {},
   "outputs": [
    {
     "ename": "NameError",
     "evalue": "name 'i_sim_db' is not defined",
     "output_type": "error",
     "traceback": [
      "\u001b[0;31m---------------------------------------------------------------------------\u001b[0m",
      "\u001b[0;31mNameError\u001b[0m                                 Traceback (most recent call last)",
      "\u001b[0;32m<ipython-input-50-5ef02d2bef77>\u001b[0m in \u001b[0;36m<module>\u001b[0;34m\u001b[0m\n\u001b[0;32m----> 1\u001b[0;31m \u001b[0mi_sim_db\u001b[0m\u001b[0;34m\u001b[0m\u001b[0;34m\u001b[0m\u001b[0m\n\u001b[0m",
      "\u001b[0;31mNameError\u001b[0m: name 'i_sim_db' is not defined"
     ]
    }
   ],
   "source": [
    "i_sim_db"
   ]
  },
  {
   "cell_type": "code",
   "execution_count": 49,
   "id": "3000c2f0",
   "metadata": {},
   "outputs": [
    {
     "ename": "NameError",
     "evalue": "name 'i_sim_db' is not defined",
     "output_type": "error",
     "traceback": [
      "\u001b[0;31m---------------------------------------------------------------------------\u001b[0m",
      "\u001b[0;31mNameError\u001b[0m                                 Traceback (most recent call last)",
      "\u001b[0;32m<ipython-input-49-ad8d126842fd>\u001b[0m in \u001b[0;36m<module>\u001b[0;34m\u001b[0m\n\u001b[0;32m----> 1\u001b[0;31m \u001b[0m_list_databases_name\u001b[0m\u001b[0;34m[\u001b[0m\u001b[0mi_db\u001b[0m\u001b[0;34m]\u001b[0m \u001b[0;34m+\u001b[0m \u001b[0;34m' | '\u001b[0m \u001b[0;34m+\u001b[0m \u001b[0m_list_simulation_sample_name\u001b[0m\u001b[0;34m[\u001b[0m\u001b[0mi_sim_db\u001b[0m\u001b[0;34m]\u001b[0m \u001b[0;34m+\u001b[0m \u001b[0;34m' | '\u001b[0m \u001b[0;34m+\u001b[0m \u001b[0m_list_models_name\u001b[0m\u001b[0;34m[\u001b[0m\u001b[0mi_model\u001b[0m\u001b[0;34m]\u001b[0m\u001b[0;34m\u001b[0m\u001b[0;34m\u001b[0m\u001b[0m\n\u001b[0m",
      "\u001b[0;31mNameError\u001b[0m: name 'i_sim_db' is not defined"
     ]
    }
   ],
   "source": [
    "_list_databases_name[i_db] + ' | ' + _list_simulation_sample_name[i_sim_db] + ' | ' + _list_models_name[i_model]"
   ]
  },
  {
   "cell_type": "code",
   "execution_count": null,
   "id": "2a73563a",
   "metadata": {},
   "outputs": [],
   "source": []
  },
  {
   "cell_type": "code",
   "execution_count": null,
   "id": "119a0e81",
   "metadata": {},
   "outputs": [],
   "source": []
  },
  {
   "cell_type": "code",
   "execution_count": null,
   "id": "7d59eb67",
   "metadata": {},
   "outputs": [],
   "source": []
  },
  {
   "cell_type": "markdown",
   "id": "3c4db275",
   "metadata": {},
   "source": [
    "# Finish 2"
   ]
  },
  {
   "cell_type": "markdown",
   "id": "c15339f7",
   "metadata": {},
   "source": [
    "# DELETE"
   ]
  },
  {
   "cell_type": "code",
   "execution_count": null,
   "id": "1dee621e",
   "metadata": {},
   "outputs": [],
   "source": [
    "#NSS:\n",
    "\n",
    "\n",
    "\n",
    "# import building_blocks as bblocks\n",
    "# import numpy as np\n",
    "# import random\n",
    "\n",
    "\n",
    "# df = \n",
    "# sample_selector=None\n",
    "\n",
    "# _temp_X_columns = list(df.loc[:,df.columns.str.startswith(\"X\")].columns)\n",
    "# distances, indices = bblocks.func_NSN(_df=df, _columns=_temp_X_columns, _neighbors=df.shape[0] - 1)\n",
    "\n",
    "# if sample_selector == None:\n",
    "#     sample_selector = random.randrange(*sorted([0,df.shape[0]]))\n",
    "\n",
    "# indices_from_sample = np.insert(indices[sample_selector], 0, sample_selector)\n",
    "\n",
    "# return list(indices_from_sample)"
   ]
  },
  {
   "cell_type": "code",
   "execution_count": null,
   "id": "d096ca46",
   "metadata": {},
   "outputs": [],
   "source": [
    "# indices"
   ]
  },
  {
   "cell_type": "code",
   "execution_count": null,
   "id": "e1ea4619",
   "metadata": {},
   "outputs": [],
   "source": [
    "# func_SPB()"
   ]
  },
  {
   "cell_type": "code",
   "execution_count": null,
   "id": "b9b437b4",
   "metadata": {},
   "outputs": [],
   "source": [
    "# #SPB:\n",
    "\n",
    "# import random\n",
    "# import building_blocks as bblocks\n",
    "\n",
    "# df = _list_databases_training[0]\n",
    "# samples_with_label=None\n",
    "\n",
    "\n",
    "\n",
    "# if samples_with_label == None:\n",
    "#     samples_with_label = []\n",
    "#     samples_with_label.append(random.randrange(*sorted([0,df.shape[0]])))\n",
    "\n",
    "\n",
    "# Vc = df[~df['sample_id'].isin(samples_with_label)].reset_index(drop=True)\n",
    "# Vt = df[df['sample_id'].isin(samples_with_label)].reset_index(drop=True)\n",
    "# Vt['manual_label'] = Vt['labels']\n",
    "\n",
    "# _temp_X_columns = list(df.loc[:,df.columns.str.startswith(\"X\")].columns)\n",
    "\n",
    "# # _sample_id = random.randrange(0,Vt.shape[0]-1)\n",
    "# # df['label'][df['sample_id'] == _sample_id] = 2\n",
    "\n",
    "# _list_choices = []\n",
    "# for i in range(Vc.shape[0] - 1):   \n",
    "\n",
    "#     Vc = df[~df['sample_id'].isin(samples_with_label)].reset_index(drop=True)\n",
    "#     Vt = df[df['sample_id'].isin(samples_with_label)].reset_index(drop=True)\n",
    "\n",
    "#     _max_dis, _can = bblocks.func_SPB(Vc.loc[:,_temp_X_columns].values, Vt.loc[:,_temp_X_columns].values, index=Vc['sample_id'].values)     \n",
    "\n",
    "#     samples_with_label.append(_can)\n",
    "#     _list_choices.append(_can)        \n",
    "\n",
    "\n",
    "# _list_choices"
   ]
  },
  {
   "cell_type": "markdown",
   "id": "f0a19ac9",
   "metadata": {},
   "source": [
    "# FINISH"
   ]
  },
  {
   "cell_type": "code",
   "execution_count": 10,
   "id": "6afdbabd",
   "metadata": {},
   "outputs": [],
   "source": [
    "# _list_simulation_sample_name = ['NSS', 'SPB','DEN', 'OUT']\n",
    "# for i_db in range(len(_list_databases_training)):\n",
    "\n",
    "# #     _list_simulation_samples.append([])\n",
    "\n",
    "#     #NSS:\n",
    "#     _temp_list = sim.f_NSS(_list_databases_training[i_db])\n",
    "#     _list_simulation_samples[i_db].append(_temp_list)\n",
    "\n",
    "#     #SPB:\n",
    "#     _temp_list = sim.f_SPB(_list_databases_training[i_db])\n",
    "#     _list_simulation_samples[i_db].append(_temp_list)\n",
    "\n",
    "#     #DEN:\n",
    "#     _temp_list = sim.f_DEN(_list_databases_training[i_db])\n",
    "#     _list_simulation_samples[i_db].append(_temp_list)    \n",
    "\n",
    "#     #OUT:\n",
    "#     _temp_list = sim.f_OUT(_list_databases_training[i_db])\n",
    "#     _list_simulation_samples[i_db].append(_temp_list)    "
   ]
  },
  {
   "cell_type": "code",
   "execution_count": 12,
   "id": "43d3560f",
   "metadata": {},
   "outputs": [],
   "source": [
    "# len(_list_simulation_samples[0][3])"
   ]
  },
  {
   "cell_type": "code",
   "execution_count": null,
   "id": "be3fdfc1",
   "metadata": {},
   "outputs": [],
   "source": [
    "# ML FRAMEWORK\n",
    "for i_db in range(len(_list_databases_training)):\n",
    "    for i_sim_db in range(len(_list_simulation_samples[i_db])):        \n",
    "        for i_sim_samples in range(len(_list_simulation_samples[i_db])):\n",
    "            for i_model in range(len(_list_models)):            \n",
    "\n",
    "                _db = _list_databases_training[i_db]\n",
    "                _db_test = _list_databases_test[i_db]\n",
    "                _samples = _list_simulation_samples[i_db][i_sim_samples]\n",
    "                _model = _list_models[i_model]\n",
    "\n",
    "                _temp_X_columns = list(_db.loc[:,_db.columns.str.startswith(\"X\")].columns)\n",
    "                \n",
    "                #Framework de Accuracy\n",
    "                for i in range(len(_samples)):\n",
    "\n",
    "                    _samples_temp = _samples[0:i+1]\n",
    "\n",
    "                    #prepara X and y\n",
    "                    X_train = _db[_db['sample_id'].isin(_samples_temp)].loc[:,_temp_X_columns]\n",
    "                    y_train_true = _db[_db['sample_id'].isin(_samples_temp)].loc[:,'label']\n",
    "\n",
    "                    #FIT - train model:\n",
    "                    _list_models[i_model].fit(X_train, y_train_true)\n",
    "                                        \n",
    "                    #db test (evaluation):\n",
    "                    X_test = _db_test.loc[:,_temp_X_columns]\n",
    "                    y_test_true = _db_test.loc[:,'label']\n",
    "\n",
    "                    #Predict:\n",
    "                    y_test_predict = _list_models[i_model].predict_proba()\n",
    "                    \n",
    "                    #Accuracy Results \n",
    "                    _results_accuracy = accuracy_score(y_test_true, y_test_predict)\n",
    "\n",
    "                    #OUTPUT:\n",
    "                    #name:\n",
    "                    _model_output[0][i_db][i_sim_samples][i_model].append(_list_databases_name[i_db] + ' | ' + _list_simulation_sample_name[i_sim_db] + ' | ' + _list_models_name[i_model])\n",
    "                    #qtd_lablls\n",
    "                    _model_output[1][i_db][i_sim_samples][i_model].append(i)\n",
    "                    #accuracy\n",
    "                    _model_output[2][i_db][i_sim_samples][i_model].append(_results_accuracy)                        "
   ]
  }
 ],
 "metadata": {
  "kernelspec": {
   "display_name": "Python 3",
   "language": "python",
   "name": "python3"
  },
  "language_info": {
   "codemirror_mode": {
    "name": "ipython",
    "version": 3
   },
   "file_extension": ".py",
   "mimetype": "text/x-python",
   "name": "python",
   "nbconvert_exporter": "python",
   "pygments_lexer": "ipython3",
   "version": "3.9.1"
  }
 },
 "nbformat": 4,
 "nbformat_minor": 5
}
